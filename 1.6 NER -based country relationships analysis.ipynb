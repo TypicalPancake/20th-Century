{
 "cells": [
  {
   "cell_type": "code",
   "execution_count": 7,
   "id": "531e5a93-a4da-460c-9376-e6becbf09479",
   "metadata": {},
   "outputs": [],
   "source": [
    "# Import Libraries Import Spacy\n",
    "import pandas as pd\n",
    "import networkx as nx\n",
    "import matplotlib.pyplot as plt\n",
    "\n",
    "# Load spaCy English model\n",
    "nlp = spacy.load(\"en_core_web_sm\")"
   ]
  },
  {
   "cell_type": "code",
   "execution_count": 16,
   "id": "6ac06b39-0a43-4b32-b2c4-fec9476dc5d0",
   "metadata": {},
   "outputs": [],
   "source": [
    "# Load Txt File\n",
    "with open('key_events_20th_century.txt', 'r', encoding='utf-8') as f:\n",
    "    text = f.read()"
   ]
  },
  {
   "cell_type": "raw",
   "id": "0c7d5ddd-737e-4b8a-956e-39dbf5b5065d",
   "metadata": {},
   "source": [
    "# Observations for wrangling & Cleaning\n",
    "Checked for special characters \n",
    "\n",
    "Verified if country names match those in the scraped list\n",
    "\n",
    "Performed replacement/cleaning if mismatches were found"
   ]
  },
  {
   "cell_type": "code",
   "execution_count": 17,
   "id": "02643ed5-1a61-43ee-8553-f3c1d74244ec",
   "metadata": {},
   "outputs": [],
   "source": [
    "# Text Wrangling & Cleaning\n",
    "import re\n",
    "\n",
    "# Remove reference tags like [1], [12], etc.\n",
    "text = re.sub(r'\\[\\d+\\]', '', text)\n",
    "\n",
    "# Normalize whitespace\n",
    "text = re.sub(r'\\s+', ' ', text)\n",
    "\n",
    "# Replace known country name mismatches (update based on your list)\n",
    "replacements = {\n",
    "    'United States of America': 'United States',\n",
    "    'USSR': 'Soviet Union',\n",
    "    'U.S.': 'United States',\n",
    "    'UK': 'United Kingdom',\n",
    "    'Czechoslovakia': 'Czech Republic',  # optional, based on your country list\n",
    "}\n",
    "for old, new in replacements.items():\n",
    "    text = text.replace(old, new)\n",
    "\n",
    "# Save cleaned version (optional, for re-use)\n",
    "with open('cleaned_key_events_20th_century.txt', 'w', encoding='utf-8') as f:\n",
    "    f.write(text)"
   ]
  },
  {
   "cell_type": "code",
   "execution_count": 10,
   "id": "23ebb630-bee9-42a5-b223-6b663a9bc55f",
   "metadata": {},
   "outputs": [],
   "source": [
    "# Create NER Object\n",
    "doc = nlp(text)"
   ]
  },
  {
   "cell_type": "code",
   "execution_count": 20,
   "id": "e03dd384-f959-44f0-b60e-bcb7f8de8562",
   "metadata": {},
   "outputs": [],
   "source": [
    "# Split Sentence Entities\n",
    "sentences = list(doc.sents)\n",
    "sentence_entities = []\n",
    "\n",
    "for sent in sentences:\n",
    "    ents = [ent.text for ent in sent.ents if ent.label_ == \"GPE\"]\n",
    "    sentence_entities.append((sent.text, ents))"
   ]
  },
  {
   "cell_type": "code",
   "execution_count": 14,
   "id": "31b2476d-df77-4e6b-aba4-1afd01c9e153",
   "metadata": {},
   "outputs": [],
   "source": [
    "# Load your countries CSV\n",
    "countries_df = pd.read_csv('countries_list_20th_century_1.5.csv')\n",
    "countries = countries_df['country_name'].str.strip().tolist()"
   ]
  },
  {
   "cell_type": "code",
   "execution_count": 15,
   "id": "0ba1f135-4737-4262-bb80-ec4536d8e6ef",
   "metadata": {},
   "outputs": [],
   "source": [
    "# Create filtered relationships\n",
    "relationships = []\n",
    "\n",
    "for sentence, ents in sentence_entities:\n",
    "    involved = [ent for ent in ents if ent in countries]\n",
    "    if len(involved) > 1:\n",
    "        for i in range(len(involved)):\n",
    "            for j in range(i+1, len(involved)):\n",
    "                relationships.append((involved[i], involved[j], sentence))"
   ]
  },
  {
   "cell_type": "code",
   "execution_count": 18,
   "id": "f3f7f6ba-598b-4274-8c68-0f7192740a43",
   "metadata": {},
   "outputs": [
    {
     "data": {
      "text/html": [
       "<div>\n",
       "<style scoped>\n",
       "    .dataframe tbody tr th:only-of-type {\n",
       "        vertical-align: middle;\n",
       "    }\n",
       "\n",
       "    .dataframe tbody tr th {\n",
       "        vertical-align: top;\n",
       "    }\n",
       "\n",
       "    .dataframe thead th {\n",
       "        text-align: right;\n",
       "    }\n",
       "</style>\n",
       "<table border=\"1\" class=\"dataframe\">\n",
       "  <thead>\n",
       "    <tr style=\"text-align: right;\">\n",
       "      <th></th>\n",
       "      <th>Country1</th>\n",
       "      <th>Country2</th>\n",
       "      <th>Sentence</th>\n",
       "    </tr>\n",
       "  </thead>\n",
       "  <tbody>\n",
       "    <tr>\n",
       "      <th>0</th>\n",
       "      <td>France</td>\n",
       "      <td>Austria</td>\n",
       "      <td>After a period of diplomatic and military esca...</td>\n",
       "    </tr>\n",
       "    <tr>\n",
       "      <th>1</th>\n",
       "      <td>France</td>\n",
       "      <td>Hungary</td>\n",
       "      <td>After a period of diplomatic and military esca...</td>\n",
       "    </tr>\n",
       "    <tr>\n",
       "      <th>2</th>\n",
       "      <td>Austria</td>\n",
       "      <td>Hungary</td>\n",
       "      <td>After a period of diplomatic and military esca...</td>\n",
       "    </tr>\n",
       "    <tr>\n",
       "      <th>3</th>\n",
       "      <td>Germany</td>\n",
       "      <td>Russia</td>\n",
       "      <td>The Bolsheviks negotiated the Treaty of Brest-...</td>\n",
       "    </tr>\n",
       "    <tr>\n",
       "      <th>4</th>\n",
       "      <td>Germany</td>\n",
       "      <td>Italy</td>\n",
       "      <td>Germany, 1933 Fascism first appeared in Italy ...</td>\n",
       "    </tr>\n",
       "  </tbody>\n",
       "</table>\n",
       "</div>"
      ],
      "text/plain": [
       "  Country1 Country2                                           Sentence\n",
       "0   France  Austria  After a period of diplomatic and military esca...\n",
       "1   France  Hungary  After a period of diplomatic and military esca...\n",
       "2  Austria  Hungary  After a period of diplomatic and military esca...\n",
       "3  Germany   Russia  The Bolsheviks negotiated the Treaty of Brest-...\n",
       "4  Germany    Italy  Germany, 1933 Fascism first appeared in Italy ..."
      ]
     },
     "execution_count": 18,
     "metadata": {},
     "output_type": "execute_result"
    }
   ],
   "source": [
    "# Cretae Relationships DataFrame\n",
    "relationships_df = pd.DataFrame(relationships, columns=['Country1', 'Country2', 'Sentence'])\n",
    "relationships_df.head()"
   ]
  },
  {
   "cell_type": "code",
   "execution_count": 19,
   "id": "b5c1e6eb-56fe-4e9d-b410-35bac2207d36",
   "metadata": {},
   "outputs": [],
   "source": [
    "# Save & Export\n",
    "relationships_df.to_csv('country_relationships_20th.csv', index=False)"
   ]
  },
  {
   "cell_type": "code",
   "execution_count": null,
   "id": "55e67dca-1198-4995-8bf9-98d92ca8be36",
   "metadata": {},
   "outputs": [],
   "source": []
  }
 ],
 "metadata": {
  "kernelspec": {
   "display_name": "Python 3 (ipykernel)",
   "language": "python",
   "name": "python3"
  },
  "language_info": {
   "codemirror_mode": {
    "name": "ipython",
    "version": 3
   },
   "file_extension": ".py",
   "mimetype": "text/x-python",
   "name": "python",
   "nbconvert_exporter": "python",
   "pygments_lexer": "ipython3",
   "version": "3.11.11"
  }
 },
 "nbformat": 4,
 "nbformat_minor": 5
}
