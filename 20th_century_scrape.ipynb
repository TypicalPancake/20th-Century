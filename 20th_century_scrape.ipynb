{
 "cells": [
  {
   "cell_type": "code",
   "execution_count": 10,
   "id": "1e848336-a9ec-478f-b01b-ef23f6e18d93",
   "metadata": {},
   "outputs": [],
   "source": [
    "# Import Libraries\n",
    "from selenium import webdriver\n",
    "from selenium.webdriver.chrome.service import Service\n",
    "from selenium.webdriver.chrome.options import Options\n",
    "import time"
   ]
  },
  {
   "cell_type": "code",
   "execution_count": 6,
   "id": "ccda90ab-1f63-4d7f-b16e-fd4fd7116315",
   "metadata": {},
   "outputs": [],
   "source": [
    "# Optional: Keep browser window hidden\n",
    "options = Options()\n",
    "options.add_argument('--headless')"
   ]
  },
  {
   "cell_type": "code",
   "execution_count": 9,
   "id": "aef835d0-54c9-4538-b408-ac7d3ec94fad",
   "metadata": {},
   "outputs": [],
   "source": [
    "# Create ChromDriver Path\n",
    "chrome_path = r\"C:/Users/TypicalPancake/OneDrive/Desktop/CF - Freelance & Python Tools Project/webdrivers/chromedriver.exe\"\n",
    "service = Service(chrome_path)"
   ]
  },
  {
   "cell_type": "code",
   "execution_count": 8,
   "id": "9000b487-ec5f-497e-8a04-08daa0e20d83",
   "metadata": {},
   "outputs": [],
   "source": [
    "# Initialize WebDriver\n",
    "driver = webdriver.Chrome(service=service, options=options)"
   ]
  },
  {
   "cell_type": "code",
   "execution_count": 11,
   "id": "c51663a1-1fcd-4fac-a84f-e05a3a00e2bb",
   "metadata": {},
   "outputs": [],
   "source": [
    "# Target page\n",
    "url = \"https://en.wikipedia.org/wiki/Key_events_of_the_20th_century\"  \n",
    "driver.get(url)"
   ]
  },
  {
   "cell_type": "code",
   "execution_count": 12,
   "id": "9da111c1-242f-4cf1-ba36-de3b06b9bd56",
   "metadata": {},
   "outputs": [],
   "source": [
    "time.sleep(3)"
   ]
  },
  {
   "cell_type": "code",
   "execution_count": 13,
   "id": "8e6f0388-0e06-4552-b70c-3eb3b9b733af",
   "metadata": {},
   "outputs": [],
   "source": [
    "html = driver.page_source"
   ]
  },
  {
   "cell_type": "code",
   "execution_count": 15,
   "id": "dd9807a1-d092-46c0-92b7-0c4cef56c719",
   "metadata": {},
   "outputs": [],
   "source": [
    "# Save the page text (not just HTML)\n",
    "from bs4 import BeautifulSoup\n",
    "\n",
    "soup = BeautifulSoup(html, 'html.parser')\n",
    "page_text = soup.get_text()"
   ]
  },
  {
   "cell_type": "code",
   "execution_count": 16,
   "id": "570706ee-6ce5-4d16-9b94-7e997aa2c8ce",
   "metadata": {},
   "outputs": [],
   "source": [
    "# Save text to file\n",
    "with open(\"key_events_20th_century.txt\", \"w\", encoding='utf-8') as file:\n",
    "    file.write(page_text)"
   ]
  },
  {
   "cell_type": "code",
   "execution_count": null,
   "id": "7020fff3-fe6c-4496-9012-a2526d21e1ed",
   "metadata": {},
   "outputs": [],
   "source": []
  }
 ],
 "metadata": {
  "kernelspec": {
   "display_name": "Python 3 (ipykernel)",
   "language": "python",
   "name": "python3"
  },
  "language_info": {
   "codemirror_mode": {
    "name": "ipython",
    "version": 3
   },
   "file_extension": ".py",
   "mimetype": "text/x-python",
   "name": "python",
   "nbconvert_exporter": "python",
   "pygments_lexer": "ipython3",
   "version": "3.11.11"
  }
 },
 "nbformat": 4,
 "nbformat_minor": 5
}
